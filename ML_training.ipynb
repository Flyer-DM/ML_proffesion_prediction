{
 "cells": [
  {
   "cell_type": "code",
   "execution_count": 1,
   "id": "6009d795",
   "metadata": {},
   "outputs": [],
   "source": [
    "\n",
    "import lxml\n",
    "import json\n",
    "import re\n",
    "from pprint import pprint\n",
    "import re\n",
    "import numpy as np\n",
    "import pandas as pd\n",
    "from IPython.display import HTML, display\n",
    "from sklearn.base import BaseEstimator, TransformerMixin\n",
    "from sklearn.compose import ColumnTransformer\n",
    "from sklearn.dummy import DummyClassifier\n",
    "from sklearn.feature_extraction.text import TfidfVectorizer\n",
    "from sklearn.pipeline import Pipeline\n",
    "from sklearn.neighbors import NearestNeighbors\n",
    "from sklearn.metrics import accuracy_score\n",
    "from sklearn.neighbors import KNeighborsClassifier\n",
    "from sklearn.linear_model import LogisticRegression \n",
    "from sklearn import svm \n",
    "from sklearn.ensemble import RandomForestClassifier \n",
    "from sklearn.neural_network import MLPClassifier \n",
    "from sklearn.metrics import f1_score"
   ]
  },
  {
   "cell_type": "code",
   "execution_count": 20,
   "id": "066d6015",
   "metadata": {},
   "outputs": [],
   "source": [
    "train = pd.read_csv(\"C:/Users/User/Downloads/bytedatahack22/train.csv\", index_col=\"index\")\n",
    "train = train.query(\"target != -1\")\n",
    "train = train.drop('description',axis=1)"
   ]
  },
  {
   "cell_type": "code",
   "execution_count": 21,
   "id": "4e9cfce3",
   "metadata": {},
   "outputs": [
    {
     "data": {
      "text/html": [
       "<div>\n",
       "<style scoped>\n",
       "    .dataframe tbody tr th:only-of-type {\n",
       "        vertical-align: middle;\n",
       "    }\n",
       "\n",
       "    .dataframe tbody tr th {\n",
       "        vertical-align: top;\n",
       "    }\n",
       "\n",
       "    .dataframe thead th {\n",
       "        text-align: right;\n",
       "    }\n",
       "</style>\n",
       "<table border=\"1\" class=\"dataframe\">\n",
       "  <thead>\n",
       "    <tr style=\"text-align: right;\">\n",
       "      <th></th>\n",
       "      <th>name</th>\n",
       "      <th>target</th>\n",
       "    </tr>\n",
       "    <tr>\n",
       "      <th>index</th>\n",
       "      <th></th>\n",
       "      <th></th>\n",
       "    </tr>\n",
       "  </thead>\n",
       "  <tbody>\n",
       "    <tr>\n",
       "      <th>169939030</th>\n",
       "      <td>кассир пиццерию витебск</td>\n",
       "      <td>5223</td>\n",
       "    </tr>\n",
       "    <tr>\n",
       "      <th>169293782</th>\n",
       "      <td>продавец консультант yota</td>\n",
       "      <td>5223</td>\n",
       "    </tr>\n",
       "    <tr>\n",
       "      <th>291073919</th>\n",
       "      <td>электросварщик накс</td>\n",
       "      <td>7212</td>\n",
       "    </tr>\n",
       "    <tr>\n",
       "      <th>179260831</th>\n",
       "      <td>кассир</td>\n",
       "      <td>5223</td>\n",
       "    </tr>\n",
       "    <tr>\n",
       "      <th>39608878</th>\n",
       "      <td>оператор машинного доения</td>\n",
       "      <td>6121</td>\n",
       "    </tr>\n",
       "    <tr>\n",
       "      <th>...</th>\n",
       "      <td>...</td>\n",
       "      <td>...</td>\n",
       "    </tr>\n",
       "    <tr>\n",
       "      <th>110663394</th>\n",
       "      <td>офис менеджер</td>\n",
       "      <td>3341</td>\n",
       "    </tr>\n",
       "    <tr>\n",
       "      <th>30812168</th>\n",
       "      <td>офис менеджер</td>\n",
       "      <td>3341</td>\n",
       "    </tr>\n",
       "    <tr>\n",
       "      <th>50002587</th>\n",
       "      <td>офис менеджер</td>\n",
       "      <td>3341</td>\n",
       "    </tr>\n",
       "    <tr>\n",
       "      <th>183546781</th>\n",
       "      <td>офис менеджер</td>\n",
       "      <td>3341</td>\n",
       "    </tr>\n",
       "    <tr>\n",
       "      <th>39324585</th>\n",
       "      <td>дояр</td>\n",
       "      <td>6121</td>\n",
       "    </tr>\n",
       "  </tbody>\n",
       "</table>\n",
       "<p>15000 rows × 2 columns</p>\n",
       "</div>"
      ],
      "text/plain": [
       "                                name  target\n",
       "index                                       \n",
       "169939030    кассир пиццерию витебск    5223\n",
       "169293782  продавец консультант yota    5223\n",
       "291073919        электросварщик накс    7212\n",
       "179260831                     кассир    5223\n",
       "39608878   оператор машинного доения    6121\n",
       "...                              ...     ...\n",
       "110663394              офис менеджер    3341\n",
       "30812168               офис менеджер    3341\n",
       "50002587               офис менеджер    3341\n",
       "183546781              офис менеджер    3341\n",
       "39324585                        дояр    6121\n",
       "\n",
       "[15000 rows x 2 columns]"
      ]
     },
     "execution_count": 21,
     "metadata": {},
     "output_type": "execute_result"
    }
   ],
   "source": [
    "train['name'] = train['name'].str.replace(r'\\([^()]*\\)', '', regex=True)\n",
    "train['name'] = train['name'].str.findall('\\w{4,}').str.join(' ')\n",
    "train"
   ]
  },
  {
   "cell_type": "code",
   "execution_count": 22,
   "id": "84dda3d8",
   "metadata": {},
   "outputs": [],
   "source": [
    "X_train, y_train = train.drop(columns=[\"target\"]), train[\"target\"]"
   ]
  },
  {
   "cell_type": "code",
   "execution_count": 23,
   "id": "075686e2",
   "metadata": {},
   "outputs": [
    {
     "data": {
      "text/plain": [
       "array([[0.        , 0.        , 0.        , ..., 0.        , 0.        ,\n",
       "        0.        ],\n",
       "       [0.        , 0.        , 0.        , ..., 0.        , 0.        ,\n",
       "        0.        ],\n",
       "       [0.        , 0.        , 0.        , ..., 0.        , 0.        ,\n",
       "        0.71604425],\n",
       "       ...,\n",
       "       [0.        , 0.        , 0.        , ..., 0.        , 0.        ,\n",
       "        0.        ],\n",
       "       [0.        , 0.        , 0.        , ..., 0.        , 0.        ,\n",
       "        0.        ],\n",
       "       [0.        , 0.        , 0.        , ..., 0.        , 0.        ,\n",
       "        0.        ]])"
      ]
     },
     "execution_count": 23,
     "metadata": {},
     "output_type": "execute_result"
    }
   ],
   "source": [
    "X_train_raw, y_train = train[\"name\"], train[\"target\"]\n",
    "vectorizer = TfidfVectorizer(max_features=128)\n",
    "X_train = vectorizer.fit_transform(X_train_raw)\n",
    "X_train.toarray()"
   ]
  },
  {
   "cell_type": "code",
   "execution_count": 24,
   "id": "ea28f2f6",
   "metadata": {},
   "outputs": [
    {
     "name": "stdout",
     "output_type": "stream",
     "text": [
      "0.9316\n"
     ]
    }
   ],
   "source": [
    "SVM = svm.LinearSVC()\n",
    "SVM.fit(X_train, y_train)\n",
    "SVM.predict(X_train)\n",
    "print(round(SVM.score(X_train,y_train),4))"
   ]
  },
  {
   "cell_type": "code",
   "execution_count": 30,
   "id": "f9a809e4",
   "metadata": {},
   "outputs": [],
   "source": [
    "X_test_row = pd.read_csv(\"C:/Users/User/Downloads/bytedatahack22/test.csv\")\n",
    "X_test_row['name'] = X_test_row['name'].str.replace(r\"\\([^()]*\\)\", \"\", regex=True)\n",
    "vectorizer = TfidfVectorizer(max_features=128)\n",
    "X_test = vectorizer.fit_transform(X_test_row['name'])\n",
    "X_test.toarray()\n",
    "\n",
    "y_pred = SVM.predict(X_test)"
   ]
  },
  {
   "cell_type": "code",
   "execution_count": 31,
   "id": "1ef1771f",
   "metadata": {},
   "outputs": [],
   "source": [
    "submission = X_test_row[['index']].assign(target=y_pred)\n",
    "submission.to_csv(\"C:/Users/User/Downloads/bytedatahack22/result.csv\", index=False)"
   ]
  },
  {
   "cell_type": "code",
   "execution_count": null,
   "id": "c3314691",
   "metadata": {},
   "outputs": [],
   "source": []
  }
 ],
 "metadata": {
  "kernelspec": {
   "display_name": "Python 3 (ipykernel)",
   "language": "python",
   "name": "python3"
  },
  "language_info": {
   "codemirror_mode": {
    "name": "ipython",
    "version": 3
   },
   "file_extension": ".py",
   "mimetype": "text/x-python",
   "name": "python",
   "nbconvert_exporter": "python",
   "pygments_lexer": "ipython3",
   "version": "3.9.13"
  }
 },
 "nbformat": 4,
 "nbformat_minor": 5
}
